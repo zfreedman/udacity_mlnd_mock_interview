{
 "cells": [
  {
   "cell_type": "markdown",
   "metadata": {},
   "source": [
    "# Question 1\n",
    "Given two strings s and t, determine whether some anagram of t is a substring of s. For example: if s = \"udacity\" and t = \"ad\", then the function returns True. Your function definition should look like: question1(s, t) and return a boolean True or False."
   ]
  },
  {
   "cell_type": "code",
   "execution_count": 27,
   "metadata": {},
   "outputs": [],
   "source": [
    "def question1(compare_string, ana_string, string_builder=\"\"):\n",
    "    \"\"\"\n",
    "    Given a string s, this function returns true if an anagram of t is a substring of s.\n",
    "    Returns false otherwise.\n",
    "    \"\"\"\n",
    "    #If compare string is empty, always return false\n",
    "    if compare_string == \"\":\n",
    "        return False\n",
    "    \n",
    "    #If no more characters to mutate\n",
    "    if ana_string == \"\":\n",
    "        #Always return false if string_builder is empty string, since \"\" in some_string\n",
    "        #is true for all strings\n",
    "        if string_builder == \"\":\n",
    "            return False\n",
    "        \n",
    "        #Default case\n",
    "        return string_builder in compare_string\n",
    "    \n",
    "    #Append chars recursively\n",
    "    for i in range(len(ana_string)):\n",
    "        #Get current char\n",
    "        ch = ana_string[i]\n",
    "        \n",
    "        #Attempt recursive permutations\n",
    "        curr_bool = question1(\n",
    "            compare_string,\n",
    "            ana_string[:i] + ana_string[i+1:],\n",
    "            string_builder + ch\n",
    "        )\n",
    "        \n",
    "        #Anagram found criteria\n",
    "        if curr_bool:\n",
    "            return True\n",
    "    \n",
    "    #No anagram found\n",
    "    return False"
   ]
  },
  {
   "cell_type": "markdown",
   "metadata": {},
   "source": [
    "### Explanation\n",
    "This code runs in O(n!) time. For a string with *n* characters, the only non-recursive (first) call runs in O(n) time, where a recursive call is made for each of the n characters. On the first recursive call for any character, the remaining *n*-1 characters will also undergo a recursive call, which continues until the remaining characters in the anagram string is 0. With this logic, *n* x *n*-1 * x ... x 2 x 1 gives n!.\n",
    "\n",
    "Whenever permutation is involved, there's usually a recursive and iterative solution. The recursive solution here starts by taking an empty string as a default parameter and iteratively stripping the *ith* character from the testing string to build up each possible anagram. While the recursive and iterative variations require the same space complexity (something larger than n!), I find the recursive implementation easier to visualize. Additionally, the recursive solution does not require an external data structure explicitly to store the permutations as they're created, but this tradeoff comes at the expense of a deeper stack from nested function calls where the parameters actuall"
   ]
  },
  {
   "cell_type": "markdown",
   "metadata": {},
   "source": [
    "### Tests"
   ]
  },
  {
   "cell_type": "code",
   "execution_count": 37,
   "metadata": {},
   "outputs": [
    {
     "name": "stdout",
     "output_type": "stream",
     "text": [
      "Test 0: True\n",
      "Test 1: False\n",
      "Test 2: True\n",
      "Test 3: False\n",
      "Test 4: True\n",
      "Test 5: True\n"
     ]
    }
   ],
   "source": [
    "q1_tests = [\n",
    "    (\"a\", \"a\"),#True\n",
    "    (\"b\", \"a\"),#False\n",
    "    (\"abcdefg\", \"ba\"),#True\n",
    "    (\"abcdefg\", \"bad\"),#False\n",
    "    (\"cinema\", \"iceman\"),#True\n",
    "    (\"iceman52\", \"cinema\")#True\n",
    "]\n",
    "\n",
    "for i in range(len(q1_tests)):\n",
    "    print(\"Test {}: {}\".format(i, question1(q1_tests[i][0], q1_tests[i][1])))"
   ]
  },
  {
   "cell_type": "markdown",
   "metadata": {},
   "source": [
    "# Question 2\n",
    "Given a string a, find the longest palindromic substring contained in a. Your function definition should look like question2(a), and return a string."
   ]
  }
 ],
 "metadata": {
  "kernelspec": {
   "display_name": "Python 2",
   "language": "python",
   "name": "python2"
  },
  "language_info": {
   "codemirror_mode": {
    "name": "ipython",
    "version": 2
   },
   "file_extension": ".py",
   "mimetype": "text/x-python",
   "name": "python",
   "nbconvert_exporter": "python",
   "pygments_lexer": "ipython2",
   "version": "2.7.14"
  }
 },
 "nbformat": 4,
 "nbformat_minor": 2
}
