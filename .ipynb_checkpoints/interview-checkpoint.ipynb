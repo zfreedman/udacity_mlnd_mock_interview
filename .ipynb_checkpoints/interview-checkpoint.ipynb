{
 "cells": [
  {
   "cell_type": "markdown",
   "metadata": {},
   "source": [
    "# Question 1\n",
    "Given two strings s and t, determine whether some anagram of t is a substring of s. For example: if s = \"udacity\" and t = \"ad\", then the function returns True. Your function definition should look like: question1(s, t) and return a boolean True or False."
   ]
  },
  {
   "cell_type": "code",
   "execution_count": 27,
   "metadata": {},
   "outputs": [],
   "source": [
    "def question1(compare_string, ana_string, string_builder=\"\"):\n",
    "    \"\"\"\n",
    "    Given a string s, this function returns true if an anagram of t is a substring of s.\n",
    "    Returns false otherwise.\n",
    "    \"\"\"\n",
    "    #If compare string is empty, always return false\n",
    "    if compare_string == \"\":\n",
    "        return False\n",
    "    \n",
    "    #If no more characters to mutate\n",
    "    if ana_string == \"\":\n",
    "        #Always return false if string_builder is empty string, since \"\" in some_string\n",
    "        #is true for all strings\n",
    "        if string_builder == \"\":\n",
    "            return False\n",
    "        \n",
    "        #Default case\n",
    "        return string_builder in compare_string\n",
    "    \n",
    "    #Append chars recursively\n",
    "    for i in range(len(ana_string)):\n",
    "        #Get current char\n",
    "        ch = ana_string[i]\n",
    "        \n",
    "        #Attempt recursive permutations\n",
    "        curr_bool = question1(\n",
    "            compare_string,\n",
    "            ana_string[:i] + ana_string[i+1:],\n",
    "            string_builder + ch\n",
    "        )\n",
    "        \n",
    "        #Anagram found criteria\n",
    "        if curr_bool:\n",
    "            return True\n",
    "    \n",
    "    #No anagram found\n",
    "    return False"
   ]
  },
  {
   "cell_type": "markdown",
   "metadata": {},
   "source": [
    "### Explanation\n",
    "This code runs in O(n!) time. For a string with *n* characters, the only non-recursive (first) call runs in O(n) time, where a recursive call is made for each of the n characters. On the first recursive call for any character, the remaining *n*-1 characters will also undergo a recursive call, which continues until the remaining characters in the anagram string is 0. With this logic, *n* x *n*-1 * x ... x 2 x 1 gives n!.\n",
    "\n",
    "Whenever permutation is involved, there's usually a recursive and iterative solution. The recursive solution here starts by taking an empty string as a default parameter and iteratively stripping the *ith* character from the testing string to build up each possible anagram. While the recursive and iterative variations require the same space complexity (something larger than n!), I find the recursive implementation easier to visualize. Additionally, the recursive solution does not require an external data structure explicitly to store the permutations as they're created, but this tradeoff comes at the expense of a deeper stack from nested function calls where the permutations actually are stored as function parameters."
   ]
  },
  {
   "cell_type": "markdown",
   "metadata": {},
   "source": [
    "### Tests"
   ]
  },
  {
   "cell_type": "code",
   "execution_count": 37,
   "metadata": {},
   "outputs": [
    {
     "name": "stdout",
     "output_type": "stream",
     "text": [
      "Test 0: True\n",
      "Test 1: False\n",
      "Test 2: True\n",
      "Test 3: False\n",
      "Test 4: True\n",
      "Test 5: True\n"
     ]
    }
   ],
   "source": [
    "q1_tests = [\n",
    "    (\"a\", \"a\"),#True\n",
    "    (\"b\", \"a\"),#False\n",
    "    (\"abcdefg\", \"ba\"),#True\n",
    "    (\"abcdefg\", \"bad\"),#False\n",
    "    (\"cinema\", \"iceman\"),#True\n",
    "    (\"iceman52\", \"cinema\")#True\n",
    "]\n",
    "\n",
    "for i in range(len(q1_tests)):\n",
    "    print(\"Test {}: {}\".format(i, question1(q1_tests[i][0], q1_tests[i][1])))"
   ]
  },
  {
   "cell_type": "markdown",
   "metadata": {},
   "source": [
    "# Question 2\n",
    "Given a string a, find the longest palindromic substring contained in a. Your function definition should look like question2(a), and return a string."
   ]
  },
  {
   "cell_type": "code",
   "execution_count": 40,
   "metadata": {},
   "outputs": [],
   "source": [
    "def question2(s):\n",
    "    \"\"\"\n",
    "    Finds the longest palindromic substring contained in a. This method assumes spaces, punctuation, numbers,\n",
    "    and symbols are all valid characters. Some implementations of this function will treat \"mad am\" as a\n",
    "    palindrome, but this implementation does not.\n",
    "    \"\"\"\n",
    "    #Best palindrome\n",
    "    best = \"\"\n",
    "    if s == \"\":\n",
    "        return s\n",
    "    elif 1 <= len(s):\n",
    "        best = s[0]\n",
    "    \n",
    "    #Palindrome with length 1 is already accounted for. This method checks from the current character\n",
    "    #outward, so first iteration starts at second character\n",
    "    for i in range(1, len(s)):\n",
    "        #How wide to look from this character as a middle\n",
    "        wide = 1\n",
    "        while 0 <= i - wide and i + wide < len(s):\n",
    "            left = s[i-wide:i]\n",
    "            right = s[i+1:i+1+wide][::-1]\n",
    "            #print(\"l: {}\".format(left))\n",
    "            #print(\"r: {}\".format(right))\n",
    "            #Test palindrome\n",
    "            if left == right and len(best) < 2*wide + 1:\n",
    "                best = left + s[i] + right\n",
    "                \n",
    "            #Note palindrome\n",
    "            else:\n",
    "                break\n",
    "                \n",
    "            #Increment wide\n",
    "            wide += 1\n",
    "\n",
    "    return best"
   ]
  },
  {
   "cell_type": "markdown",
   "metadata": {},
   "source": [
    "### Explanation\n",
    "This palindrome analyzer checks the leftward and rightward substrings from any index in a string. If the leftward substring and rightward substring are equal, a palindrome exists, and the length of each substring can be increased by 1. As it is now, the algorithm runs in O(n^2), seeing as each index of a length *n* string is iterated over once in the first loop, with at most *n*/2 iterations in the inner loop. Looking at the assignment calls, the storage for the algorithm is also O(n^2).\n",
    "\n",
    "This algorithm can be optimized however. For example, given a best palindrome was already found of length *m*, once the difference between the current index and the length of the string becomes <= m, no better palindrome can be found, and therefore early stopping can hasten runtime."
   ]
  },
  {
   "cell_type": "markdown",
   "metadata": {},
   "source": [
    "### Tests"
   ]
  },
  {
   "cell_type": "code",
   "execution_count": 41,
   "metadata": {
    "scrolled": true
   },
   "outputs": [
    {
     "name": "stdout",
     "output_type": "stream",
     "text": [
      "Test 0: question2() = ...expected \n",
      "Test 1: question2(a) = a...expected a\n",
      "Test 2: question2(ab) = a...expected a\n",
      "Test 3: question2(aba) = aba...expected aba\n",
      "Test 4: question2(abcb) = bcb...expected bcb\n",
      "Test 5: question2(eat tae) = eat eat...expected eat tae\n",
      "Test 6: question2(2442) = 2...expected 2442\n",
      "Test 7: question2(2244664432) = 2...expected 446644\n"
     ]
    }
   ],
   "source": [
    "q2_tests = [\n",
    "    (\"\", \"\"),\n",
    "    (\"a\", \"a\"),\n",
    "    (\"ab\", \"a\"),\n",
    "    (\"aba\", \"aba\"),\n",
    "    (\"abcb\", \"bcb\"),\n",
    "    (\"eat tae\", \"eat tae\"),\n",
    "    (\"2442\", \"2442\"),\n",
    "    (\"2244664432\", \"446644\")\n",
    "]\n",
    "\n",
    "for i in range(len(q2_tests)):\n",
    "    answer = question2(q2_tests[i][0])\n",
    "    print(\"Test {}: question2({}) = {}...expected {}\".format(\n",
    "        i, q2_tests[i][0], answer, q2_tests[i][1]\n",
    "    ))"
   ]
  },
  {
   "cell_type": "markdown",
   "metadata": {},
   "source": [
    "# Question 3\n",
    "Given an undirected graph G, find the minimum spanning tree within G. A minimum spanning tree connects all vertices in a graph with the smallest possible total weight of edges. Your function should take in and return an adjacency list structured like this:\n",
    "\n",
    "{'A': [('B', 2)],\n",
    "\n",
    " 'B': [('A', 2), ('C', 5)],\n",
    " \n",
    " 'C': [('B', 5)]}\n",
    " \n",
    " Vertices are represented as unique strings. The function definition should be question3(G)"
   ]
  },
  {
   "cell_type": "code",
   "execution_count": 61,
   "metadata": {},
   "outputs": [],
   "source": [
    "def question3(graph):\n",
    "    \"\"\"\n",
    "    Given a graph of the form represnted in the above adjacency list, this function will\n",
    "    return a minimum spanning tree for the graph in the same structure as the input.\n",
    "    \"\"\"\n",
    "    #Return input if graph is empty\n",
    "    if graph == None or len(graph) <= 1:\n",
    "        return graph\n",
    "    \n",
    "    #Create subgraph with 1 vertex (vertex choice doesn't matter)\n",
    "    sub = {graph.keys()[0]: []}\n",
    "    \n",
    "    #Iterate until subgraph has same number of keys as full graph\n",
    "    while len(sub) < len(graph):\n",
    "\n",
    "        #Minimum edge value\n",
    "        in_vertex = None\n",
    "        min_edge_val = float(\"inf\")\n",
    "        out_vertex = None\n",
    "        \n",
    "        #Iterate over each vertex in current graph\n",
    "        for k in sub:\n",
    "            \n",
    "            #Iterate over **outside** connections to get minimum valued edge\n",
    "            for v in graph[k]:\n",
    "                if v[0] not in sub and v[1] < min_edge_val:\n",
    "                    in_vertex = k\n",
    "                    min_edge_val = v[1]\n",
    "                    out_vertex = v[0]\n",
    "        \n",
    "        #Add edge and vertex\n",
    "        sub[in_vertex].append((out_vertex, min_edge_val))\n",
    "        sub[out_vertex] = [(in_vertex, min_edge_val)]\n",
    "    \n",
    "    #Return subgraph\n",
    "    return sub"
   ]
  },
  {
   "cell_type": "markdown",
   "metadata": {},
   "source": [
    "### Explanation\n",
    "The code above is the unoptimized Prim's algorithm, which is used for finding minimum spanning trees. The algorithm starts by creating a subgraph containing 1 vertex with no outgoing nodes. From there, the subgraph iteratively searches for edges of the form (s,g) with smallest weight, where s is any vertex in the subgraph and g is any vertex not in the subgraph but in the original graph. This process continues until the subgraph contains all nodes from the original graph *and* every node in the subgraph can be reached by traversing from any other node, meaning the subgraph has *n*-1 edges for graphs with *n* vertices.\n",
    "\n",
    "This implementation runs in O(n^2) time, seeing as how the worst cast is a complete graph where each of *n* nodes has *n*-1 edges directly connecting it to every other node in the graph. The space complexity here is O(n), seeing as how the adjacency list contains *n* entries representing *n*-1 edges which are stored as duplicates (A->B and B->A are both entries): O(n) + O(2*(*n*-1)) = O(n)."
   ]
  },
  {
   "cell_type": "markdown",
   "metadata": {},
   "source": [
    "### Tests"
   ]
  },
  {
   "cell_type": "code",
   "execution_count": 70,
   "metadata": {},
   "outputs": [
    {
     "name": "stdout",
     "output_type": "stream",
     "text": [
      "Test 0 passed: True\n",
      "Test 1 passed: True\n",
      "Test 2 passed: True\n",
      "Test 3 passed: True\n",
      "Test 4 passed: True\n"
     ]
    }
   ],
   "source": [
    "q3_tests = [\n",
    "    {\n",
    "        'A': [('B', 2)],\n",
    "        'B': [('A', 2), ('C', 5)],\n",
    "        'C': [('B', 5)]\n",
    "    },\n",
    "    {},\n",
    "    {\"A\": []},\n",
    "    {\n",
    "        'A': [('B', 2), (\"C\", 1)],\n",
    "        'B': [('A', 2), ('C', 3)],\n",
    "        'C': [(\"A\", 1), ('B', 3)]\n",
    "    },\n",
    "    {\n",
    "        'A': [('B', 2), (\"C\", 1)],\n",
    "        'B': [('A', 2), ('C', 3), (\"D\", 4)],\n",
    "        'C': [(\"A\", 1), ('B', 3), (\"D\", 5)],\n",
    "        \"D\": [(\"B\", 4), (\"C\", 5)]\n",
    "    }\n",
    "]\n",
    "\n",
    "q3_solns = [\n",
    "    {\n",
    "        'A': [('B', 2)],\n",
    "        'B': [('A', 2), ('C', 5)],\n",
    "        'C': [('B', 5)]\n",
    "    },\n",
    "    {},\n",
    "    {\"A\": []},\n",
    "    {\n",
    "        'A': [('B', 2), (\"C\", 1)],\n",
    "        'B': [('A', 2)],\n",
    "        'C': [(\"A\", 1)]\n",
    "    },\n",
    "    {\n",
    "        'A': [('B', 2), (\"C\", 1)],\n",
    "        'B': [('A', 2), (\"D\", 4)],\n",
    "        'C': [(\"A\", 1)],\n",
    "        \"D\": [(\"B\", 4)]\n",
    "    }\n",
    "]\n",
    "\n",
    "#Test solutions\n",
    "for i in range(len(q3_tests)):\n",
    "    result = question3(q3_tests[i])\n",
    "    \n",
    "    #If correct number of vertices\n",
    "    is_right = len(result) == len(q3_solns[i])\n",
    "    if is_right:\n",
    "        \n",
    "        #Iterate over each vertex in each graph to assert set equality\n",
    "        sets = [result, q3_solns[i]]\n",
    "        for j in range(len(sets)):\n",
    "            set_a = sets[j]\n",
    "            set_b = sets[(j + 1) % len(sets)]\n",
    "            for k in set_a:\n",
    "                tups = set_a[k]\n",
    "                for t in tups:\n",
    "                    is_right = t in set_b[k]\n",
    "                    if not is_right:\n",
    "                        break\n",
    "                if not is_right:\n",
    "                    break\n",
    "            if not is_right:\n",
    "                break\n",
    "    print(\"Test {} passed: {}\".format(i, is_right))"
   ]
  },
  {
   "cell_type": "markdown",
   "metadata": {},
   "source": [
    "# Question 4\n",
    "Find the least common ancestor between two nodes on a binary search tree. The least common ancestor is the farthest node from the root that is an ancestor of both nodes. For example, the root is a common ancestor of all nodes on the tree, but if both nodes are descendents of the root's left child, then that left child might be the lowest common ancestor. You can assume that both nodes are in the tree, and the tree itself adheres to all BST properties. The function definition should look like question4(T, r, n1, n2), where T is the tree represented as a matrix, where the index of the list is equal to the integer stored in that node and a 1 represents a child node, r is a non-negative integer representing the root, and n1 and n2 are non-negative integers representing the two nodes in no particular order. For example, one test case might be\n",
    "\n",
    "question4([[0, 1, 0, 0, 0],\n",
    "\n",
    "           [0, 0, 0, 0, 0],\n",
    "           [0, 0, 0, 0, 0],\n",
    "           [1, 0, 0, 0, 1],\n",
    "           [0, 0, 0, 0, 0]],\n",
    "          3,\n",
    "          1,\n",
    "          4)\n",
    "          \n",
    "and the answer would be 3."
   ]
  }
 ],
 "metadata": {
  "kernelspec": {
   "display_name": "Python 2",
   "language": "python",
   "name": "python2"
  },
  "language_info": {
   "codemirror_mode": {
    "name": "ipython",
    "version": 2
   },
   "file_extension": ".py",
   "mimetype": "text/x-python",
   "name": "python",
   "nbconvert_exporter": "python",
   "pygments_lexer": "ipython2",
   "version": "2.7.14"
  }
 },
 "nbformat": 4,
 "nbformat_minor": 2
}
